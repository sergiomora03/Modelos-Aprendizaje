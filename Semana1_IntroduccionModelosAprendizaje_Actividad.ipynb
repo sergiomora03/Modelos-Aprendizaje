{
 "cells": [
  {
   "cell_type": "markdown",
   "metadata": {},
   "source": [
    "## MIIA-4203 MODELOS AVANZADOS PARA ANÁLISIS DE DATOS II\n",
    "\n",
    "\n",
    "# Introducción al aprendizaje computacional\n",
    "\n",
    "## Actividad 1\n",
    "\n",
    "### Profesor: Camilo Franco (c.franco31@uniandes.edu.co)\n",
    "\n",
    "\n",
    "\n",
    "En esta actividad vamos a estudiar una primera aproximación a los modelos de aprendizaje computacional, utilizando como base un problema de clasifiación y el modelo de clasificación logístico.\n"
   ]
  },
  {
   "cell_type": "markdown",
   "metadata": {},
   "source": [
    "## Actividad en grupos\n",
    "### Nombres:\n",
    "\n",
    "**Instrucciones:** Por favor escriba los nombres de los integrantes de su grupo. Esta actividad debe ser entregada a más tardar dentro de 8 días, con la respuesta para los ejercicios y preguntas en cada numeral.\n",
    "\n"
   ]
  },
  {
   "cell_type": "markdown",
   "metadata": {},
   "source": [
    "## 1. Aprendizaje computacional\n",
    "\n",
    "El aprendizaje computacional o **Machine Learning** (ML), utiliza algoritmos con parámetros libres que se puedan ajustar de manera automática, con el objetivo de mejorar el desempeño de los modelos a partir de la información disponible.\n",
    "\n",
    "El aprendizaje computacional se circunscribe en el campo de la Inteligencia Computacional, o lo que se conoce como Inteligencia Artificial, mediante la búsqueda de patrones a partir de los *Datos*. Entonces, los algoritmos desarrollados dentro del Machine Learning (ML a partir de ahora) se pueden entender como los bloques fundacionales que permiten aprender computacionalmente a partir de los datos. De esta manera, generalizando los datos en lugar de solo almacenarlos y devolver busquedas específicas, como en los sistemas relacionales de bases de datos.\n",
    "\n",
    "\n",
    "### Tipos de aprendizaje\n",
    "\n",
    "Los tipos de problemas sobre los que se trabaja en ML se pueden entender como de tipo **supervisado**, **no supervisado**, y **semi-supervisado**. \n",
    "\n",
    "**Aprendizaje supervisado**\n",
    "\n",
    "El aprendizaje supervisado se refiere a modelos, o conjuntos de algoritmos, que aproximan o estiman una función $f(x)$ que representa la relación entre la variable dependiente $Y$ (etiqueta o valor objetivo) y el conjunto de variables independientes $X$. Por ello a los algoritmos de tipo supervisado se les asocia usualmente con modelos predictivos, donde dado un conjunto de datos $X$, se puede predecir un nuevo valor de la variable dependiente $Y$. \n",
    "\n",
    "De acuerdo con el tipo de valores en $Y$, se pueden definir dos tipos principales de problemas y algoritmos para analizar los datos:\n",
    "\n",
    "- Problemas de clasificación\n",
    "\n",
    "Siempre que la variable $Y$ se refiera a un grupo de categorías (valores sin ningún orden en particular), como por ejemplo bueno/malo, pequeño/grande, la tarea de predecir $Y$ puede ser considerada como un problema de clasificación. En este sentido, las variables de salida se conocen como etiquetas o categorías.\n",
    "\n",
    "- Problemas de regresión\n",
    "\n",
    "Un problema de regresión consiste en estimar y/o predecir una variable dependiente (o valor objetivo) $Y$ con valores continuos. Por ejemplo, predecir el precio de una vivienda, de acciones, alimentos, etc. \n",
    "\n",
    "**Aprendizaje no-supervisado**\n",
    "    \n",
    "El aprendizaje no-supervisado considera problemas donde la variable dependiente $Y$, o las etiquetas para el conjunto de datos, no está disponible. Es decir, cuando $Y$ no está contenida en el conjunto de datos. Entonces, en lugar de estimar o predecir una variable, un algoritmo no-supervisado utiliza técnicas sobre el conjunto de datos de entrada $X$ para detectar patrones, encontrar reglas, o resumir y agrupar los datos. Usualmente, los algoritmos no-supervisados son utilizados para el análisis descriptivo y la modelación, donde se necesita una primera aproximación a los datos, desarrollar una intuición y extraer nuevo conocmiento que es desconocido para el analista y/o experto. \n",
    "\n",
    "En el aprendizaje no-supervisado, se tienen dos tareas principales, la reducción de dimensionalidad y el análisis de clustering.\n",
    "\n",
    "- Reducción de dimensionalidad \n",
    "\n",
    "La reducción de dimensionalidad busca encontrar la estructura subyacente de los datos, reduciendo la cantidad de información disponible en el conjunto de datos $X$. Por ejemlo, es muy conocido el análisis de componentes principales. \n",
    "\n",
    "- Clustering \n",
    "\n",
    "El análisis de clustering consiste en agrupar un conjunto de datos $X$ de manera que cada grupo contenga observaciones más similares entre sí que con las observaciones de otros grupos. Estos grupos son denominados *clusters*. Es una técnica bastante común para la exploración de los datos y su análisis. \n",
    "\n",
    "\n",
    "#### Otros tipos de aprendizaje\n",
    "\n",
    "Más allá de estos dos tipos de aprendizaje presentados anteriormente, existen otros tipos que son bastante útiles dependiendo de la naturaleza del problema. Por ejemplo, el **aprendizaje semi-supervisado** (https://medium.com/inside-machine-learning/placeholder-3557ebb3d470) o el **aprendizaje por refuerzo** (https://medium.com/machine-learning-for-humans/reinforcement-learning-6eacf258b265) "
   ]
  },
  {
   "cell_type": "markdown",
   "metadata": {},
   "source": [
    "## 2. Problema de clasificación: riesgo de default\n",
    "\n",
    "### 2.1 Datos\n",
    "\n",
    "Como hemos visto, una tarea muy usual dentro del ML es la de la clasificación. Pero antes, vamos a importar las bibliotecas que vamos a usar en este cuaderno."
   ]
  },
  {
   "cell_type": "code",
   "execution_count": 1,
   "metadata": {},
   "outputs": [],
   "source": [
    "# Algunos paquetes iniciales que vamos a utilizar\n",
    "import pandas as pd\n",
    "import numpy as np \n",
    "import matplotlib\n",
    "import matplotlib.pyplot as plt\n"
   ]
  },
  {
   "cell_type": "markdown",
   "metadata": {},
   "source": [
    "https://archive.ics.uci.edu/ml/datasets/statlog+(german+credit+data)"
   ]
  },
  {
   "cell_type": "code",
   "execution_count": 2,
   "metadata": {},
   "outputs": [],
   "source": [
    "data = pd.read_csv(\"germancredit.csv\")"
   ]
  },
  {
   "cell_type": "code",
   "execution_count": 3,
   "metadata": {},
   "outputs": [
    {
     "data": {
      "text/html": [
       "<div>\n",
       "<style scoped>\n",
       "    .dataframe tbody tr th:only-of-type {\n",
       "        vertical-align: middle;\n",
       "    }\n",
       "\n",
       "    .dataframe tbody tr th {\n",
       "        vertical-align: top;\n",
       "    }\n",
       "\n",
       "    .dataframe thead th {\n",
       "        text-align: right;\n",
       "    }\n",
       "</style>\n",
       "<table border=\"1\" class=\"dataframe\">\n",
       "  <thead>\n",
       "    <tr style=\"text-align: right;\">\n",
       "      <th></th>\n",
       "      <th>Default</th>\n",
       "      <th>checkingstatus1</th>\n",
       "      <th>duration</th>\n",
       "      <th>history</th>\n",
       "      <th>purpose</th>\n",
       "      <th>amount</th>\n",
       "      <th>savings</th>\n",
       "      <th>employ</th>\n",
       "      <th>installment</th>\n",
       "      <th>status</th>\n",
       "      <th>...</th>\n",
       "      <th>residence</th>\n",
       "      <th>property</th>\n",
       "      <th>age</th>\n",
       "      <th>otherplans</th>\n",
       "      <th>housing</th>\n",
       "      <th>cards</th>\n",
       "      <th>job</th>\n",
       "      <th>liable</th>\n",
       "      <th>tele</th>\n",
       "      <th>foreign</th>\n",
       "    </tr>\n",
       "  </thead>\n",
       "  <tbody>\n",
       "    <tr>\n",
       "      <th>0</th>\n",
       "      <td>0</td>\n",
       "      <td>A11</td>\n",
       "      <td>6</td>\n",
       "      <td>A34</td>\n",
       "      <td>A43</td>\n",
       "      <td>1169</td>\n",
       "      <td>A65</td>\n",
       "      <td>A75</td>\n",
       "      <td>4</td>\n",
       "      <td>A93</td>\n",
       "      <td>...</td>\n",
       "      <td>4</td>\n",
       "      <td>A121</td>\n",
       "      <td>67</td>\n",
       "      <td>A143</td>\n",
       "      <td>A152</td>\n",
       "      <td>2</td>\n",
       "      <td>A173</td>\n",
       "      <td>1</td>\n",
       "      <td>A192</td>\n",
       "      <td>A201</td>\n",
       "    </tr>\n",
       "    <tr>\n",
       "      <th>1</th>\n",
       "      <td>1</td>\n",
       "      <td>A12</td>\n",
       "      <td>48</td>\n",
       "      <td>A32</td>\n",
       "      <td>A43</td>\n",
       "      <td>5951</td>\n",
       "      <td>A61</td>\n",
       "      <td>A73</td>\n",
       "      <td>2</td>\n",
       "      <td>A92</td>\n",
       "      <td>...</td>\n",
       "      <td>2</td>\n",
       "      <td>A121</td>\n",
       "      <td>22</td>\n",
       "      <td>A143</td>\n",
       "      <td>A152</td>\n",
       "      <td>1</td>\n",
       "      <td>A173</td>\n",
       "      <td>1</td>\n",
       "      <td>A191</td>\n",
       "      <td>A201</td>\n",
       "    </tr>\n",
       "    <tr>\n",
       "      <th>2</th>\n",
       "      <td>0</td>\n",
       "      <td>A14</td>\n",
       "      <td>12</td>\n",
       "      <td>A34</td>\n",
       "      <td>A46</td>\n",
       "      <td>2096</td>\n",
       "      <td>A61</td>\n",
       "      <td>A74</td>\n",
       "      <td>2</td>\n",
       "      <td>A93</td>\n",
       "      <td>...</td>\n",
       "      <td>3</td>\n",
       "      <td>A121</td>\n",
       "      <td>49</td>\n",
       "      <td>A143</td>\n",
       "      <td>A152</td>\n",
       "      <td>1</td>\n",
       "      <td>A172</td>\n",
       "      <td>2</td>\n",
       "      <td>A191</td>\n",
       "      <td>A201</td>\n",
       "    </tr>\n",
       "    <tr>\n",
       "      <th>3</th>\n",
       "      <td>0</td>\n",
       "      <td>A11</td>\n",
       "      <td>42</td>\n",
       "      <td>A32</td>\n",
       "      <td>A42</td>\n",
       "      <td>7882</td>\n",
       "      <td>A61</td>\n",
       "      <td>A74</td>\n",
       "      <td>2</td>\n",
       "      <td>A93</td>\n",
       "      <td>...</td>\n",
       "      <td>4</td>\n",
       "      <td>A122</td>\n",
       "      <td>45</td>\n",
       "      <td>A143</td>\n",
       "      <td>A153</td>\n",
       "      <td>1</td>\n",
       "      <td>A173</td>\n",
       "      <td>2</td>\n",
       "      <td>A191</td>\n",
       "      <td>A201</td>\n",
       "    </tr>\n",
       "    <tr>\n",
       "      <th>4</th>\n",
       "      <td>1</td>\n",
       "      <td>A11</td>\n",
       "      <td>24</td>\n",
       "      <td>A33</td>\n",
       "      <td>A40</td>\n",
       "      <td>4870</td>\n",
       "      <td>A61</td>\n",
       "      <td>A73</td>\n",
       "      <td>3</td>\n",
       "      <td>A93</td>\n",
       "      <td>...</td>\n",
       "      <td>4</td>\n",
       "      <td>A124</td>\n",
       "      <td>53</td>\n",
       "      <td>A143</td>\n",
       "      <td>A153</td>\n",
       "      <td>2</td>\n",
       "      <td>A173</td>\n",
       "      <td>2</td>\n",
       "      <td>A191</td>\n",
       "      <td>A201</td>\n",
       "    </tr>\n",
       "  </tbody>\n",
       "</table>\n",
       "<p>5 rows × 21 columns</p>\n",
       "</div>"
      ],
      "text/plain": [
       "   Default checkingstatus1  duration history purpose  amount savings employ  \\\n",
       "0        0             A11         6     A34     A43    1169     A65    A75   \n",
       "1        1             A12        48     A32     A43    5951     A61    A73   \n",
       "2        0             A14        12     A34     A46    2096     A61    A74   \n",
       "3        0             A11        42     A32     A42    7882     A61    A74   \n",
       "4        1             A11        24     A33     A40    4870     A61    A73   \n",
       "\n",
       "   installment status  ... residence  property age  otherplans housing cards  \\\n",
       "0            4    A93  ...         4      A121  67        A143    A152     2   \n",
       "1            2    A92  ...         2      A121  22        A143    A152     1   \n",
       "2            2    A93  ...         3      A121  49        A143    A152     1   \n",
       "3            2    A93  ...         4      A122  45        A143    A153     1   \n",
       "4            3    A93  ...         4      A124  53        A143    A153     2   \n",
       "\n",
       "    job liable  tele foreign  \n",
       "0  A173      1  A192    A201  \n",
       "1  A173      1  A191    A201  \n",
       "2  A172      2  A191    A201  \n",
       "3  A173      2  A191    A201  \n",
       "4  A173      2  A191    A201  \n",
       "\n",
       "[5 rows x 21 columns]"
      ]
     },
     "execution_count": 3,
     "metadata": {},
     "output_type": "execute_result"
    }
   ],
   "source": [
    "data.head()"
   ]
  },
  {
   "cell_type": "code",
   "execution_count": 4,
   "metadata": {},
   "outputs": [
    {
     "data": {
      "text/plain": [
       "Default             int64\n",
       "checkingstatus1    object\n",
       "duration            int64\n",
       "history            object\n",
       "purpose            object\n",
       "amount              int64\n",
       "savings            object\n",
       "employ             object\n",
       "installment         int64\n",
       "status             object\n",
       "others             object\n",
       "residence           int64\n",
       "property           object\n",
       "age                 int64\n",
       "otherplans         object\n",
       "housing            object\n",
       "cards               int64\n",
       "job                object\n",
       "liable              int64\n",
       "tele               object\n",
       "foreign            object\n",
       "dtype: object"
      ]
     },
     "execution_count": 4,
     "metadata": {},
     "output_type": "execute_result"
    }
   ],
   "source": [
    "data.dtypes"
   ]
  },
  {
   "cell_type": "code",
   "execution_count": 5,
   "metadata": {},
   "outputs": [
    {
     "data": {
      "text/plain": [
       "0    700\n",
       "1    300\n",
       "Name: Default, dtype: int64"
      ]
     },
     "execution_count": 5,
     "metadata": {},
     "output_type": "execute_result"
    }
   ],
   "source": [
    "data.Default.value_counts()"
   ]
  },
  {
   "cell_type": "markdown",
   "metadata": {},
   "source": [
    "La clase positiva (default=1) tiene menos casos.  Además, es 5 veces más costoso clasificar a un usuario como bueno (Defualt=0) cuando es malo (Default=1), que clasificarlo como malo cuando es bueno."
   ]
  },
  {
   "cell_type": "code",
   "execution_count": 6,
   "metadata": {},
   "outputs": [
    {
     "data": {
      "text/plain": [
       "A201    963\n",
       "A202     37\n",
       "Name: foreign, dtype: int64"
      ]
     },
     "execution_count": 6,
     "metadata": {},
     "output_type": "execute_result"
    }
   ],
   "source": [
    "data.foreign.value_counts()"
   ]
  },
  {
   "cell_type": "markdown",
   "metadata": {},
   "source": [
    "Vemos que la mayoría de clientes de la base de datos son extranjeros."
   ]
  },
  {
   "cell_type": "markdown",
   "metadata": {},
   "source": [
    "## 2.2 Codificacion de variables categoricas"
   ]
  },
  {
   "cell_type": "code",
   "execution_count": 7,
   "metadata": {},
   "outputs": [
    {
     "name": "stdout",
     "output_type": "stream",
     "text": [
      "   Default  duration  amount  installment  residence  age  cards  liable  \\\n",
      "0        0         6    1169            4          4   67      2       1   \n",
      "1        1        48    5951            2          2   22      1       1   \n",
      "2        0        12    2096            2          3   49      1       2   \n",
      "3        0        42    7882            2          4   45      1       2   \n",
      "4        1        24    4870            3          4   53      2       2   \n",
      "\n",
      "   checkingstatus1_A11  checkingstatus1_A12  ...  housing_A152  housing_A153  \\\n",
      "0                    1                    0  ...             1             0   \n",
      "1                    0                    1  ...             1             0   \n",
      "2                    0                    0  ...             1             0   \n",
      "3                    1                    0  ...             0             1   \n",
      "4                    1                    0  ...             0             1   \n",
      "\n",
      "   job_A171  job_A172  job_A173  job_A174  tele_A191  tele_A192  foreign_A201  \\\n",
      "0         0         0         1         0          0          1             1   \n",
      "1         0         0         1         0          1          0             1   \n",
      "2         0         1         0         0          1          0             1   \n",
      "3         0         0         1         0          1          0             1   \n",
      "4         0         0         1         0          1          0             1   \n",
      "\n",
      "   foreign_A202  \n",
      "0             0  \n",
      "1             0  \n",
      "2             0  \n",
      "3             0  \n",
      "4             0  \n",
      "\n",
      "[5 rows x 62 columns]\n"
     ]
    }
   ],
   "source": [
    "credit_1 = data.copy()\n",
    "credit_1 = pd.get_dummies(credit_1, columns=['checkingstatus1','history','purpose','savings',\n",
    "                                   'employ','status','others','property','otherplans','housing','job','tele', \n",
    "                                   'foreign'], prefix = ['checkingstatus1','history','purpose','savings',\n",
    "                                   'employ','status','others','property','otherplans','housing','job','tele', \n",
    "                                   'foreign'])\n",
    "\n",
    "print(credit_1.head())"
   ]
  },
  {
   "cell_type": "code",
   "execution_count": 8,
   "metadata": {},
   "outputs": [
    {
     "data": {
      "text/plain": [
       "(1000, 61)"
      ]
     },
     "execution_count": 8,
     "metadata": {},
     "output_type": "execute_result"
    }
   ],
   "source": [
    "X = credit_1.iloc[:, 1:62]#[['duration','amount','installment','residence','age','cards','liable']]\n",
    "Y = credit_1.iloc[:, 0]\n",
    "X.shape"
   ]
  },
  {
   "cell_type": "markdown",
   "metadata": {},
   "source": [
    "### 3. Regresión logística\n",
    "\n",
    "Podemos estudiar un problema de clasificación desde una perspectiva probabilística, examinando una situación donde la variable respuesta ($Y_i$) consiste de dos categorías ($\\{0,1\\}$). La *regresión logística* estima la probabilidad de que una observación pertenezca a una de las dos categorías.\n",
    "\n",
    "Entonces se modela la función de probabilidad $p(Y_i=1)$ de tal manera que tome un valor entre 0 y 1. La función de regresión logística consiste en la función *sigmoide* ($\\sigma(\\cdot)$) $$ p(Y_i)=p(Y_i=1)=\\frac{e^{\\beta_0 + \\beta_1X_{1} + ... + \\beta_k X_{k}}}{1+e^{\\beta_0 + \\beta_1X_{1} + ... + \\beta_k X_{k}}}=\\frac{e^{Z_i}}{1+e^{Z_i}}=\\sigma(Z_i)$$\n",
    "donde se tiene que \n",
    "$$log\\frac{p(Y_i)}{1-p(Y_i)}=\\beta_0 + \\beta_1X_{1} + ... + \\beta_k X_{k}.  $$\n",
    "\n",
    "\n",
    "Por lo tanto, manteniendo todo lo demás constante, se puede estimar el cambio que una unidad extra en $X_1$ tiene sobre  el chance (o el *log-odds*) $log\\frac{p(Y_i)}{1-p(Y_i)}$. Esta estimación está dada por $\\hat \\beta_1$. \n",
    "\n",
    "\n",
    "Los coeficientes del modelo se pueden estimar por el método de máxima verosimilitud, buscando iterativamente estimadores que maximicen la función de verosimilitud: $$ F_{\\mathbf{\\beta}}=\\prod_{i:Y_i=1} p(Y_i)\\prod_{i':Y_{i'}=0}(1-p(Y_{i'})). $$\n",
    "\n",
    "\n",
    "Finalmente, la extensión del modelo logístico para múltiples clases o categorías ($C$) se hace calculando la probabilidad de una categoría ($C_i$) frente al resto y utilizando lo que se conoce como una función *softmax*: \n",
    "$$ \\sigma (Z_i )={\\frac {e^{Z_{i}}}{\\sum _{j=1}^{|C|}e^{Z_{j}}}}{\\text{ para }}i=1,\\dotsc ,|C|$$\n",
    "\n",
    "\n",
    "Miremos un ejemplo con nuestros datos sobre el comportamiento de los clientes del banco. Primero descargamos los paquetes que vamos a utilizar:"
   ]
  },
  {
   "cell_type": "code",
   "execution_count": 9,
   "metadata": {},
   "outputs": [],
   "source": [
    "from sklearn.linear_model import LogisticRegression\n",
    "from sklearn import model_selection"
   ]
  },
  {
   "cell_type": "markdown",
   "metadata": {},
   "source": [
    "Por defecto, la funcion `LogisticRegression()` encuentra una solución mediante el algoritmo de Broyden–Fletcher–Goldfarb–Shanno (BFGS):  https://en.wikipedia.org/wiki/Broyden%E2%80%93Fletcher%E2%80%93Goldfarb%E2%80%93Shanno_algorithm"
   ]
  },
  {
   "cell_type": "code",
   "execution_count": 10,
   "metadata": {},
   "outputs": [
    {
     "name": "stdout",
     "output_type": "stream",
     "text": [
      "[[ 2.68287927e-02  7.59920311e-05  2.31355024e-01 -6.58026334e-02\n",
      "  -2.34322612e-02  1.06159644e-01 -6.68401599e-02  7.27866313e-01\n",
      "   3.07714557e-01 -1.30383940e-01 -1.14514868e+00  3.07933762e-01\n",
      "   2.80566070e-01 -2.33067253e-01  1.29747202e-02 -6.08359044e-01\n",
      "   5.89172757e-01 -5.66230468e-01 -3.93016849e-02 -1.51817243e-01\n",
      "  -4.05091863e-01  1.19264371e-02  8.39051803e-02  2.23933982e-01\n",
      "  -5.02575460e-02  6.38087048e-02  4.41309056e-01  8.76403652e-02\n",
      "  -9.51883772e-02 -1.94253765e-01 -4.79459024e-01  5.10125236e-02\n",
      "   1.70763605e-01  3.72042185e-02 -4.75705123e-01 -2.32269685e-02\n",
      "   1.62950720e-01  9.05926284e-02 -3.96685029e-01 -9.68100644e-02\n",
      "  -3.86484356e-02  9.93916699e-02 -3.00694980e-01 -3.94208631e-01\n",
      "  -6.90591144e-02  4.52998746e-02  1.78016125e-01  2.21094105e-01\n",
      "   1.07297551e-01 -5.68343401e-01  7.38708232e-02 -3.19257059e-01\n",
      "   5.43449109e-03 -2.07793183e-02 -8.15724472e-02 -5.24444272e-02\n",
      "  -8.51555525e-02  1.91332807e-02 -2.59085026e-01  5.15027613e-03\n",
      "  -2.45102021e-01]]\n"
     ]
    },
    {
     "name": "stderr",
     "output_type": "stream",
     "text": [
      "C:\\Users\\samora\\AppData\\Local\\Continuum\\anaconda3\\lib\\site-packages\\sklearn\\linear_model\\_logistic.py:764: ConvergenceWarning: lbfgs failed to converge (status=1):\n",
      "STOP: TOTAL NO. of ITERATIONS REACHED LIMIT.\n",
      "\n",
      "Increase the number of iterations (max_iter) or scale the data as shown in:\n",
      "    https://scikit-learn.org/stable/modules/preprocessing.html\n",
      "Please also refer to the documentation for alternative solver options:\n",
      "    https://scikit-learn.org/stable/modules/linear_model.html#logistic-regression\n",
      "  extra_warning_msg=_LOGISTIC_SOLVER_CONVERGENCE_MSG)\n"
     ]
    }
   ],
   "source": [
    "log = LogisticRegression(penalty='none', max_iter=100) \n",
    "log.fit(X, Y)\n",
    "y_pred_log = log.predict(X)\n",
    "log_coef = log.coef_\n",
    "print(log_coef)"
   ]
  },
  {
   "cell_type": "code",
   "execution_count": 11,
   "metadata": {},
   "outputs": [
    {
     "data": {
      "text/plain": [
       "array([100])"
      ]
     },
     "execution_count": 11,
     "metadata": {},
     "output_type": "execute_result"
    }
   ],
   "source": [
    "log.n_iter_"
   ]
  },
  {
   "cell_type": "markdown",
   "metadata": {},
   "source": [
    "### Ejercicio 3.1\n",
    "\n",
    "Ajuste las opciones de la funcion `LogisticRegression`para conseguir que la solucion converja. Puede examinar la documentación de Python: https://scikit-learn.org/stable/modules/linear_model.html#logistic-regression"
   ]
  },
  {
   "cell_type": "code",
   "execution_count": 12,
   "metadata": {},
   "outputs": [
    {
     "name": "stdout",
     "output_type": "stream",
     "text": [
      "[[ 2.58929807e-02  1.15908046e-04  2.90995330e-01 -3.85059709e-03\n",
      "  -1.85710506e-02  1.36952586e-01  3.85890660e-02  6.28442459e-01\n",
      "   1.68864313e-01 -2.78844853e-01 -1.00729745e+00  4.22089773e-01\n",
      "   3.66311051e-01 -1.32150547e-01 -1.96569974e-01 -9.48515837e-01\n",
      "   6.03866316e-01 -9.52742497e-01 -1.86747319e-01 -2.09523919e-01\n",
      "  -2.69359898e-01  2.74992972e-02  2.06701250e-01  4.72105292e-01\n",
      "  -1.42580945e-01 -3.80531095e-02  3.87874643e-01  1.08316253e-01\n",
      "  -4.11164307e-02 -4.09325332e-01 -5.34584666e-01  4.36741013e-02\n",
      "   1.29049743e-01  3.27906134e-04 -6.46108907e-01 -1.57783765e-02\n",
      "   2.48203433e-01 -3.07515639e-02 -5.16302892e-01 -1.89984510e-01\n",
      "  -4.26194061e-02  2.25126935e-01 -6.71343062e-01 -3.83445739e-01\n",
      "  -1.06257090e-01 -1.69233207e-01  1.70100503e-01 -1.33783105e-02\n",
      "   7.62267892e-02 -5.51684012e-01  6.17499664e-02 -3.48306450e-01\n",
      "  -2.02279049e-01 -1.20800100e-01 -9.28179372e-02 -1.02212911e-01\n",
      "  -1.73004585e-01 -1.12061784e-01 -3.76773749e-01  9.88974559e-02\n",
      "  -5.87732989e-01]]\n"
     ]
    }
   ],
   "source": [
    "log = LogisticRegression(max_iter=500) \n",
    "log.fit(X, Y)\n",
    "y_pred_log = log.predict(X)\n",
    "log_coef = log.coef_\n",
    "print(log_coef)"
   ]
  },
  {
   "cell_type": "markdown",
   "metadata": {},
   "source": [
    "## Pregunta 3.2 \n",
    "\n",
    "Cuántas iteraciones necesitó?"
   ]
  },
  {
   "cell_type": "code",
   "execution_count": 13,
   "metadata": {},
   "outputs": [
    {
     "name": "stdout",
     "output_type": "stream",
     "text": [
      "Se necesitan -> 415 iteraciones\n"
     ]
    }
   ],
   "source": [
    "print(\"Se necesitan ->\", log.n_iter_[0], \"iteraciones\")"
   ]
  },
  {
   "cell_type": "markdown",
   "metadata": {},
   "source": [
    "## 4. Construccion de modelos predictivos"
   ]
  },
  {
   "cell_type": "markdown",
   "metadata": {},
   "source": [
    "Partimos los datos de manera aleatoria en un conjunto de entrenamiento y otro de prueba. De esta manera, estimamos los coeficientes sobre los datos de entrenamiento, y ese mismo modelo lo probamos sobre los datos de prueba con el fin de controlar que el modelo esté generalizando bien y no se sobreajuste a los datos.\n",
    "\n",
    "A continuación ejecutamos el codigo para obtener una partición con el 40% de los datos en el conjunto de prueba. Nótese que por defecto la funcion `train_test_split` sigue una partición estratificada, es decir, mantiene la distribución inicial de las clases en ambos conjuntos de entrenamiento y prueba:\n"
   ]
  },
  {
   "cell_type": "code",
   "execution_count": 14,
   "metadata": {},
   "outputs": [
    {
     "name": "stdout",
     "output_type": "stream",
     "text": [
      "Tamaño de CE, CP:  (600,) (400,)\n",
      "Observaciones de la clase positiva en entrenamiento: 182 y en prueba: 118\n"
     ]
    }
   ],
   "source": [
    "X_train, X_test, y_train, y_test = model_selection.train_test_split(X, Y, test_size=0.4, random_state=42)\n",
    "print(\"Tamaño de CE, CP: \", y_train.shape, y_test.shape)\n",
    "print(\"Observaciones de la clase positiva en entrenamiento: \" +str(sum(y_train)) +\" y en prueba: \" +str(sum(y_test)))"
   ]
  },
  {
   "cell_type": "markdown",
   "metadata": {},
   "source": [
    "Lo podemos verificar:"
   ]
  },
  {
   "cell_type": "code",
   "execution_count": 15,
   "metadata": {},
   "outputs": [
    {
     "name": "stdout",
     "output_type": "stream",
     "text": [
      "Tamaño de CE, CP:  (600,) (400,)\n",
      "Observaciones de la clase positiva en entrenamiento: 180 y en prueba: 120\n"
     ]
    }
   ],
   "source": [
    "X_train, X_test, y_train, y_test = model_selection.train_test_split(X, Y, test_size=0.4, random_state=42, stratify=Y)\n",
    "print(\"Tamaño de CE, CP: \", y_train.shape, y_test.shape)\n",
    "print(\"Observaciones de la clase positiva en entrenamiento: \" +str(sum(y_train)) +\" y en prueba: \" +str(sum(y_test)))"
   ]
  },
  {
   "cell_type": "markdown",
   "metadata": {},
   "source": [
    "A continuación ajustamos el modelo logístico y lo probamos:"
   ]
  },
  {
   "cell_type": "code",
   "execution_count": 16,
   "metadata": {},
   "outputs": [],
   "source": [
    "logT = LogisticRegression(penalty='none', max_iter=1500)\n",
    "logT.fit(X_train, y_train)\n",
    "y_tr = logT.predict(X_train)\n",
    "y_pred = logT.predict(X_test)"
   ]
  },
  {
   "cell_type": "markdown",
   "metadata": {},
   "source": [
    "Con menos datos para entrenar probablemente el algoritmo necesite más iteraciones:"
   ]
  },
  {
   "cell_type": "code",
   "execution_count": 17,
   "metadata": {},
   "outputs": [
    {
     "data": {
      "text/plain": [
       "array([858])"
      ]
     },
     "execution_count": 17,
     "metadata": {},
     "output_type": "execute_result"
    }
   ],
   "source": [
    "logT.n_iter_"
   ]
  },
  {
   "cell_type": "markdown",
   "metadata": {},
   "source": [
    "Examinemos los coeficientes del modelo y su desviación con respecto a la estimación anterior (que utilizaba todos los datos de la muestra)."
   ]
  },
  {
   "cell_type": "code",
   "execution_count": 18,
   "metadata": {},
   "outputs": [
    {
     "name": "stdout",
     "output_type": "stream",
     "text": [
      "[[ 2.47355632e-02  9.85282266e-05  3.33410132e-01  3.66043555e-02\n",
      "  -1.03695269e-02  2.96146971e-01  3.96969177e-01  4.77149837e-01\n",
      "   1.89049386e-01 -4.13053820e-01 -1.10124352e+00  3.41843907e-01\n",
      "   4.14728825e-01 -2.40007951e-01 -1.95443337e-01 -1.16921956e+00\n",
      "   1.87518373e-01 -1.03500725e+00 -5.97161842e-01 -2.77068578e-01\n",
      "  -2.99731383e-01 -1.12579663e-01  1.62810376e-01  1.14563908e+00\n",
      "  -2.05249393e-03 -2.04647375e-02  7.62309814e-01  2.79040309e-01\n",
      "  -2.91969985e-01 -1.24385459e+00 -3.53623665e-01  7.72282818e-01\n",
      "   3.95517335e-03 -2.43128740e-01 -1.20402993e+00 -1.77177441e-01\n",
      "   2.92301107e-01 -2.42246386e-01 -6.35841541e-01 -2.62311298e-01\n",
      "  -2.15477264e-01  2.99957924e-01 -9.32578778e-01 -5.57303959e-01\n",
      "  -2.29557878e-01 -2.34559782e-01  1.73323500e-01  6.62191174e-02\n",
      "  -3.98770399e-02 -8.74440196e-01  5.07225420e-01 -3.71681360e-01\n",
      "  -9.83642179e-01 -1.67456846e-01 -1.51266148e-01 -1.27224326e-01\n",
      "  -4.02150799e-01 -2.52693900e-01 -5.95404219e-01  4.96466480e-01\n",
      "  -1.34456460e+00]]\n"
     ]
    }
   ],
   "source": [
    "logT_coef = logT.coef_\n",
    "print(logT_coef)"
   ]
  },
  {
   "cell_type": "code",
   "execution_count": 19,
   "metadata": {},
   "outputs": [
    {
     "name": "stdout",
     "output_type": "stream",
     "text": [
      "[[ 1.15741749e-03  1.73798191e-05 -4.24148020e-02 -4.04549526e-02\n",
      "  -8.20152364e-03 -1.59194385e-01 -3.58380111e-01  1.51292622e-01\n",
      "  -2.01850736e-02  1.34208967e-01  9.39460699e-02  8.02458661e-02\n",
      "  -4.84177734e-02  1.07857404e-01 -1.12663670e-03  2.20703725e-01\n",
      "   4.16347943e-01  8.22647543e-02  4.10414523e-01  6.75446583e-02\n",
      "   3.03714850e-02  1.40078960e-01  4.38908735e-02 -6.73533789e-01\n",
      "  -1.40528451e-01 -1.75883719e-02 -3.74435171e-01 -1.70724056e-01\n",
      "   2.50853554e-01  8.34529260e-01 -1.80961001e-01 -7.28608717e-01\n",
      "   1.25094569e-01  2.43456647e-01  5.57921022e-01  1.61399065e-01\n",
      "  -4.40976736e-02  2.11494822e-01  1.19538649e-01  7.23267878e-02\n",
      "   1.72857858e-01 -7.48309889e-02  2.61235716e-01  1.73858220e-01\n",
      "   1.23300788e-01  6.53265746e-02 -3.22299706e-03 -7.95974280e-02\n",
      "   1.16103829e-01  3.22756184e-01 -4.45475454e-01  2.33749097e-02\n",
      "   7.81363130e-01  4.66567461e-02  5.84482110e-02  2.50114151e-02\n",
      "   2.29146213e-01  1.40632115e-01  2.18630470e-01 -3.97569024e-01\n",
      "   7.56831609e-01]]\n"
     ]
    }
   ],
   "source": [
    "print(log_coef-logT_coef)"
   ]
  },
  {
   "cell_type": "markdown",
   "metadata": {},
   "source": [
    "### Ejercicio 4.1\n",
    "\n",
    "Implemente un proceso de validación cruzada cambiando la semilla de las particiones de train (CE) y test (CP). Estimae la varianza de los estimadores y concluya si su *mejor* modelo es estable entre distintas particiones."
   ]
  },
  {
   "cell_type": "code",
   "execution_count": 158,
   "metadata": {},
   "outputs": [],
   "source": [
    "def own_train_test_split(X, Y, seed = 42, split=0.4):\n",
    "    \"\"\"Build split acorss train and test manteined stratify in Y variable and suffle index.\n",
    "    \n",
    "    Parameters:\n",
    "    X (pandas.DataFrame): DataFrame with X variables to split.\n",
    "    Y (pandas.Series): Serie with Y variable to split.\n",
    "    seed (int): seed to reproducibility split. Default is 42\n",
    "    split (float): number between 0 and 1 to split entry DataFrame. Default is 0.4\n",
    "    \n",
    "    Returns:\n",
    "    list: X_train(pandas.DataFrame), X_test(pandas.DataFrame), y_train(pandas.DataFrame), y_test(pandas.DataFrame)\n",
    "    \n",
    "    \"\"\"\n",
    "    # Merge \n",
    "    df = X.merge(Y, left_index = True, right_index = True)\n",
    "    \n",
    "    # Randomize order of rows in data frame.\n",
    "    np.random.seed(seed)\n",
    "    shuffled_index = np.random.permutation(df.index)\n",
    "    rand_df = df.reindex(shuffled_index)\n",
    "    \n",
    "    # Separate class\n",
    "    df_class1 = rand_df.query(''.join([Y.name, \" == 0\"]))\n",
    "    df_class2 = rand_df.query(''.join([Y.name, \" == 1\"]))\n",
    "    \n",
    "    # Test size for class\n",
    "    class_1_test = df.shape[0] * split * (df_class1.shape[0]/df.shape[0]) \n",
    "    class_2_test = df.shape[0] * split * (df_class2.shape[0]/df.shape[0])\n",
    "    \n",
    "    # Build DataFrames\n",
    "    df_test = pd.concat([df_class1.iloc[0:int(class_1_test)], df_class2.iloc[0:int(class_2_test)]])\n",
    "    df_train = pd.concat([df_class1.iloc[int(class_1_test):], df_class2.iloc[int(class_2_test):]])\n",
    "    \n",
    "    # return X_train, X_test, y_train, y_test\n",
    "    return df_train.drop(Y.name, axis = 1), df_test.drop(Y.name, axis = 1), df_train[Y.name], df_test[Y.name]"
   ]
  },
  {
   "cell_type": "code",
   "execution_count": 167,
   "metadata": {},
   "outputs": [
    {
     "name": "stdout",
     "output_type": "stream",
     "text": [
      "Tamaño de CE, CP:  (600,) (400,)\n",
      "Observaciones de la clase positiva en entrenamiento: 180 y en prueba: 120\n"
     ]
    }
   ],
   "source": [
    "X_train_own, X_test_own, y_train_own, y_test_own = own_train_test_split(X, Y, seed = 42)\n",
    "print(\"Tamaño de CE, CP: \", y_train_own.shape, y_test_own.shape)\n",
    "print(\"Observaciones de la clase positiva en entrenamiento: \" +str(sum(y_train_own)) +\" y en prueba: \" +str(sum(y_test_own)))"
   ]
  },
  {
   "cell_type": "code",
   "execution_count": 168,
   "metadata": {},
   "outputs": [],
   "source": [
    "logT_own = LogisticRegression(penalty='none', max_iter=1500)\n",
    "logT_own.fit(X_train_own, y_train_own)\n",
    "y_tr_own = logT_own.predict(X_train_own)\n",
    "y_pred_own = logT_own.predict(X_test_own)"
   ]
  },
  {
   "cell_type": "code",
   "execution_count": 166,
   "metadata": {},
   "outputs": [
    {
     "name": "stdout",
     "output_type": "stream",
     "text": [
      "[[ 2.38e-02  1.18e-04  3.30e-01  3.16e-02 -4.99e-03 -1.51e-01  9.89e-02\n",
      "   5.18e-01  4.11e-02 -7.36e-02 -1.13e+00  3.93e-01  3.82e-01 -4.71e-01\n",
      "   1.28e-01 -1.08e+00  6.80e-01 -1.03e+00 -5.86e-01  1.10e-02  2.68e-02\n",
      "   4.39e-01  1.80e-01  2.68e-01 -1.77e-01 -4.61e-01  4.71e-01  7.26e-02\n",
      "  -6.69e-02 -7.53e-01 -3.71e-01  1.92e-01  9.96e-02 -2.24e-01 -4.53e-01\n",
      "  -2.62e-01 -1.75e-01 -1.92e-01 -4.94e-01  2.14e-01  1.88e-01  1.41e-01\n",
      "  -9.76e-01 -3.32e-01 -3.55e-01 -2.24e-01  2.63e-01  4.17e-02  1.30e-01\n",
      "  -8.19e-01  2.35e-01 -5.72e-01 -3.10e-01 -2.01e-01 -1.35e-01 -1.16e-02\n",
      "  -3.00e-01 -1.80e-01 -4.67e-01  3.98e-01 -1.04e+00]]\n"
     ]
    }
   ],
   "source": [
    "logT_coef_own = logT_own.coef_\n",
    "print(logT_coef_own)"
   ]
  },
  {
   "cell_type": "code",
   "execution_count": 163,
   "metadata": {},
   "outputs": [
    {
     "name": "stdout",
     "output_type": "stream",
     "text": [
      "[[ 1.27e-02 -5.64e-05 -1.71e-01  4.78e-02  1.30e-02 -1.20e-01 -1.77e-01\n",
      "   1.59e-01 -4.89e-02  2.51e-01 -2.39e-01 -7.26e-02 -2.85e-02 -2.66e-01\n",
      "   3.77e-01  1.12e-01 -1.75e-01  7.52e-02 -1.88e-02  3.57e-01  1.46e-01\n",
      "   2.85e-01  1.98e-01 -3.65e-01  9.62e-02 -4.77e-01  8.61e-02 -9.17e-02\n",
      "   3.42e-02 -9.45e-02  1.87e-01  3.99e-01 -1.05e-02 -6.20e-02 -4.31e-01\n",
      "   2.27e-01  2.53e-01 -8.06e-02 -6.76e-02  1.73e-02 -1.09e-01  3.58e-01\n",
      "  -1.27e-01  2.37e-01 -1.82e-01 -2.06e-02  8.76e-02 -1.02e-01  1.28e-01\n",
      "   9.59e-02  2.53e-01  1.95e-01 -3.26e-01 -8.75e-02  1.49e-01 -1.86e-02\n",
      "   7.88e-02 -1.04e-01  2.26e-01  8.79e-02  3.38e-02]]\n"
     ]
    }
   ],
   "source": [
    "print(log_coef-logT_coef_own)"
   ]
  },
  {
   "cell_type": "markdown",
   "metadata": {},
   "source": [
    "Conclusión:\n",
    "\n",
    "Vemos que no es estable, dado que el método implementado únicamente mantiene el balance de clases para la variable dependiente y no tiene en cuenta un balance para variables independientes. No obstante, es necesario resaltar que si tenemos un balance de clases para las particiones de la variable independiente"
   ]
  },
  {
   "cell_type": "markdown",
   "metadata": {},
   "source": [
    "## 5. Evaluacion de los modelos\n",
    "Hasta ahora hemos estimado los parámetros del modelo logístico. Pero no hemos examinado si la solución es satisfactoria. A continuación examinemos el desempeño de los modelos a partir de su matriz de confusión: "
   ]
  },
  {
   "cell_type": "code",
   "execution_count": 21,
   "metadata": {},
   "outputs": [
    {
     "name": "stdout",
     "output_type": "stream",
     "text": [
      "[[242  38]\n",
      " [ 56  64]]\n"
     ]
    }
   ],
   "source": [
    "from sklearn.metrics import confusion_matrix\n",
    "\n",
    "# Calculamos la matriz de confusión para la prediccion\n",
    "cm_log = confusion_matrix(y_test, y_pred)\n",
    "np.set_printoptions(precision=2)\n",
    "print(cm_log)"
   ]
  },
  {
   "cell_type": "markdown",
   "metadata": {},
   "source": [
    "Podemos mejorar esta visualización, añadiendo etiquetas para lo que es predicción y lo que es observado en la muestra:"
   ]
  },
  {
   "cell_type": "code",
   "execution_count": 22,
   "metadata": {},
   "outputs": [],
   "source": [
    "def plot_confusion_matrix(cm, title='Matriz de confusión', cmap=plt.cm.Blues):\n",
    "    plt.imshow(cm, interpolation='nearest', cmap=cmap)\n",
    "    plt.title(title)\n",
    "    plt.colorbar()\n",
    "    tick_marks = np.arange(2)\n",
    "    plt.xticks(tick_marks, labels, rotation=45)\n",
    "    plt.yticks(tick_marks, labels)\n",
    "    plt.tight_layout()\n",
    "    plt.ylabel('Etiqueta verdadera')\n",
    "    plt.xlabel('Etiqueta estimada')"
   ]
  },
  {
   "cell_type": "code",
   "execution_count": 23,
   "metadata": {},
   "outputs": [
    {
     "data": {
      "image/png": "[encoded data removed]",
      "text/plain": [
       "<Figure size 432x288 with 2 Axes>"
      ]
     },
     "metadata": {
      "needs_background": "light"
     },
     "output_type": "display_data"
    }
   ],
   "source": [
    "labels=['Bueno (Default=0)' ,'Malo (Default=1)']\n",
    "\n",
    "plt.figure()\n",
    "plot_confusion_matrix(cm_log)"
   ]
  },
  {
   "cell_type": "markdown",
   "metadata": {},
   "source": [
    "Podemos resumir estos resultados, por ejemplo mediante la métrica de *exactitud* o *accuracy*, la cual mide la proporción de aciertos sobre el total de casos.\n",
    "\n",
    "Para entrenamiento:"
   ]
  },
  {
   "cell_type": "code",
   "execution_count": 24,
   "metadata": {},
   "outputs": [
    {
     "data": {
      "text/plain": [
       "0.785"
      ]
     },
     "execution_count": 24,
     "metadata": {},
     "output_type": "execute_result"
    }
   ],
   "source": [
    "float((y_tr == y_train).mean())"
   ]
  },
  {
   "cell_type": "markdown",
   "metadata": {},
   "source": [
    "Para predicción:"
   ]
  },
  {
   "cell_type": "code",
   "execution_count": 25,
   "metadata": {},
   "outputs": [
    {
     "data": {
      "text/plain": [
       "0.765"
      ]
     },
     "execution_count": 25,
     "metadata": {},
     "output_type": "execute_result"
    }
   ],
   "source": [
    "float((y_pred == y_test).mean())"
   ]
  },
  {
   "cell_type": "markdown",
   "metadata": {},
   "source": [
    "### Ejercicio 5.1\n",
    "\n",
    "Calcule una métrica de desempeño que tome en cuenta el coste de errar, donde el coste de predecir que un mal cliente es bueno es 5 veces más alto que el de confundir un buen cliente con uno malo."
   ]
  },
  {
   "cell_type": "code",
   "execution_count": 49,
   "metadata": {},
   "outputs": [
    {
     "data": {
      "text/plain": [
       "0.41"
      ]
     },
     "execution_count": 49,
     "metadata": {},
     "output_type": "execute_result"
    }
   ],
   "source": [
    "def err_cost(y_pred, y_true):\n",
    "    return np.where(np.logical_and(y_pred == 1, y_true == 0), -5, np.where(y_pred == y_true, 1, 0)).mean()\n",
    "\n",
    "err_cost(y_tr, y_train)"
   ]
  },
  {
   "cell_type": "markdown",
   "metadata": {},
   "source": [
    "### Justicia algorítmica\n",
    "\n",
    "Veamos cómo se comporta el modelo de acuerdo con el origen (extranjero o local) del cliente. Por ejemplo, fijémonos en el balance inicial de los datos de la muestra:"
   ]
  },
  {
   "cell_type": "code",
   "execution_count": 26,
   "metadata": {},
   "outputs": [],
   "source": [
    "credit_2 = credit_1.copy()\n",
    "credit_3 = credit_2.loc[credit_2['foreign_A201'] == 1]\n",
    "X3 = credit_3.iloc[:, 1:62]\n",
    "Y3 = credit_3.iloc[:, 0]\n",
    "\n",
    "credit_4 = credit_2.loc[credit_2['foreign_A201'] == 0]\n",
    "X4 = credit_4.iloc[:, 1:62]\n",
    "Y4 = credit_4.iloc[:, 0]"
   ]
  },
  {
   "cell_type": "code",
   "execution_count": 27,
   "metadata": {},
   "outputs": [
    {
     "name": "stdout",
     "output_type": "stream",
     "text": [
      "El numero de clientes extranjeros de la muestra: 963 y los locales: 37\n"
     ]
    }
   ],
   "source": [
    "print(\"El numero de clientes extranjeros de la muestra: \" +str(X3.shape[0]) +\" y los locales: \" +str(X4.shape[0]))"
   ]
  },
  {
   "cell_type": "markdown",
   "metadata": {},
   "source": [
    "## Pregunta 5.2\n",
    "\n",
    "De los clientes locales cuantos han tenido Default?"
   ]
  },
  {
   "cell_type": "code",
   "execution_count": 63,
   "metadata": {},
   "outputs": [
    {
     "name": "stdout",
     "output_type": "stream",
     "text": [
      "4 clientes locales han tenido default\n"
     ]
    }
   ],
   "source": [
    "print(sum(Y4), \"clientes locales han tenido default\")"
   ]
  },
  {
   "cell_type": "markdown",
   "metadata": {},
   "source": [
    "Vemos que ya hay un sesgo en los datos de entrenamiento. Por lo tanto, podemos esperar que esto se vea reflejado en nuestro modelo:"
   ]
  },
  {
   "cell_type": "code",
   "execution_count": 28,
   "metadata": {},
   "outputs": [],
   "source": [
    "y_pred_f = logT.predict(X3)\n",
    "y_pred_l = logT.predict(X4)"
   ]
  },
  {
   "cell_type": "markdown",
   "metadata": {},
   "source": [
    "Veamos otra manera de visualizar la matriz de confusion:"
   ]
  },
  {
   "cell_type": "code",
   "execution_count": 29,
   "metadata": {},
   "outputs": [
    {
     "name": "stdout",
     "output_type": "stream",
     "text": [
      "Extranjeros:\n"
     ]
    },
    {
     "data": {
      "image/png": "[encoded data removed]",
      "text/plain": [
       "<Figure size 432x288 with 2 Axes>"
      ]
     },
     "metadata": {
      "needs_background": "light"
     },
     "output_type": "display_data"
    },
    {
     "name": "stdout",
     "output_type": "stream",
     "text": [
      "Locales:\n"
     ]
    },
    {
     "data": {
      "image/png": "[encoded data removed]",
      "text/plain": [
       "<Figure size 432x288 with 2 Axes>"
      ]
     },
     "metadata": {
      "needs_background": "light"
     },
     "output_type": "display_data"
    }
   ],
   "source": [
    "from sklearn.metrics import plot_confusion_matrix\n",
    "\n",
    "print(\"Extranjeros:\")\n",
    "plot_confusion_matrix(logT, X3, Y3, normalize='all')  \n",
    "plt.show() \n",
    "\n",
    "print(\"Locales:\")\n",
    "plot_confusion_matrix(logT, X4, Y4, normalize='all')  \n",
    "plt.show()"
   ]
  },
  {
   "cell_type": "markdown",
   "metadata": {},
   "source": [
    "Y las métricas de exactitud:"
   ]
  },
  {
   "cell_type": "code",
   "execution_count": 30,
   "metadata": {},
   "outputs": [
    {
     "name": "stdout",
     "output_type": "stream",
     "text": [
      "La exactitud para el usuario extranjero: 0.7715472481827622\n",
      "La exactitud para el usuario local: 0.918918918918919\n"
     ]
    }
   ],
   "source": [
    "print(\"La exactitud para el usuario extranjero:\", float((y_pred_f == Y3).mean()))\n",
    "print(\"La exactitud para el usuario local:\", float((y_pred_l == Y4).mean()))"
   ]
  },
  {
   "cell_type": "markdown",
   "metadata": {},
   "source": [
    "### Ejercicio 5.3\n",
    "\n",
    "Proponga una modelo de clasificación que detecte clientes con un alto riesgo de Default, teniendo en cuenta el costo de clasificar a un cliente erroneamente  junto con la \"equidad algoritmica\"."
   ]
  },
  {
   "cell_type": "code",
   "execution_count": null,
   "metadata": {},
   "outputs": [],
   "source": []
  },
  {
   "cell_type": "markdown",
   "metadata": {},
   "source": [
    "### Lecturas avanzadas\n",
    "\n",
    "Para ler más sobre la ética algoritmica puede ver: Pessach, D., Shmueli, E. (2020) Algorithmic fairness. https://arxiv.org/abs/2001.09784 "
   ]
  }
 ],
 "metadata": {
  "kernelspec": {
   "display_name": "Python 3",
   "language": "python",
   "name": "python3"
  },
  "language_info": {
   "codemirror_mode": {
    "name": "ipython",
    "version": 3
   },
   "file_extension": ".py",
   "mimetype": "text/x-python",
   "name": "python",
   "nbconvert_exporter": "python",
   "pygments_lexer": "ipython3",
   "version": "3.7.1"
  }
 },
 "nbformat": 4,
 "nbformat_minor": 2
}
